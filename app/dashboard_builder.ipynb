{
 "cells": [
  {
   "cell_type": "code",
   "execution_count": 1,
   "id": "e79ea886-1da8-426c-b532-d892dd5dae24",
   "metadata": {},
   "outputs": [],
   "source": [
    "import pandas as pd\n",
    "import numpy as np\n",
    "import dash\n",
    "from jupyter_dash import JupyterDash\n",
    "from dash import dcc\n",
    "from dash import html\n",
    "from dash.dependencies import Input, Output, State\n",
    "import dash_bootstrap_components as dbc"
   ]
  },
  {
   "cell_type": "code",
   "execution_count": 2,
   "id": "82028bc1-f9eb-4dd0-9384-974ded131316",
   "metadata": {},
   "outputs": [],
   "source": [
    "external_stylesheets = [dbc.themes.JOURNAL]"
   ]
  },
  {
   "cell_type": "markdown",
   "id": "9573099a-81e3-4789-8308-db9bd8730f1d",
   "metadata": {},
   "source": [
    "## Initialize App"
   ]
  },
  {
   "cell_type": "code",
   "execution_count": 3,
   "id": "dbe92f08-a481-4b1b-81ce-1ca652adefbc",
   "metadata": {},
   "outputs": [],
   "source": [
    "app = JupyterDash(__name__, external_stylesheets=external_stylesheets)\n",
    "#uses jupyter version of dash, __name__ is a system variable in python that indicates whether the script is being run directly or via a file \n",
    "#if run directly it says main, if file it will be the name of a file. Just tells you where the code is coming from"
   ]
  },
  {
   "cell_type": "markdown",
   "id": "0b09ab2c-39a0-4ffd-912d-51378039c7f0",
   "metadata": {},
   "source": [
    "## Specify Contents of the Dashboard"
   ]
  },
  {
   "cell_type": "code",
   "execution_count": 4,
   "id": "9d029864-961c-4963-a8d3-6587a4dfdea0",
   "metadata": {},
   "outputs": [],
   "source": [
    "#replace layout attribute with dashboard items\n",
    "#two types of webpages - static (doesn't change) and interactive \n",
    "app.layout = html.Div(\n",
    "[\n",
    "    html.H1(\"Bill and Ted's Excellent Dashboard\"), \n",
    "    \n",
    "    dcc.Input(id = 'username', type = 'text', placeholder = 'Please write your name here'),\n",
    "    #asking the user to input something - a textbox the user can enter their name into \n",
    "    \n",
    "    dcc.Markdown(id='countletters')\n",
    "]\n",
    "\n",
    ")"
   ]
  },
  {
   "cell_type": "markdown",
   "id": "68d83cad-1c98-42c0-b041-0e91bcfcca99",
   "metadata": {},
   "source": [
    "## Callbacks"
   ]
  },
  {
   "cell_type": "code",
   "execution_count": 5,
   "id": "6c1f42d5-f49b-4553-8c69-bc4010ed1b35",
   "metadata": {},
   "outputs": [],
   "source": [
    "#uses a decorator (@) - that has a function a few spaces down - applies it to the very next function/thing that comes up in script\n",
    "#every callback has a list of outputs that go back to the dashboard first, then list of inputs from the dashboard to the next function\n",
    "@app.callback(Output(component_id = 'countletters', component_property = 'children'), \n",
    "              [Input(component_id = 'username', component_property = 'value')])\n",
    "\n",
    "#function callback refers to \n",
    "def countletters(name):\n",
    "    n = str(name).replace(' ', '')\n",
    "    return f\"you have {len(n)} letters in your name dawg!\""
   ]
  },
  {
   "cell_type": "markdown",
   "id": "e4910851-58f4-4da3-9cd2-75144b11d206",
   "metadata": {},
   "source": [
    "## Run the App"
   ]
  },
  {
   "cell_type": "code",
   "execution_count": 6,
   "id": "e5c5bec0-0e4f-48b7-a11f-193b0de69a6e",
   "metadata": {},
   "outputs": [
    {
     "data": {
      "text/html": [
       "\n",
       "        <iframe\n",
       "            width=\"100%\"\n",
       "            height=\"650\"\n",
       "            src=\"http://0.0.0.0:8050/\"\n",
       "            frameborder=\"0\"\n",
       "            allowfullscreen\n",
       "            \n",
       "        ></iframe>\n",
       "        "
      ],
      "text/plain": [
       "<IPython.lib.display.IFrame at 0xffff558d5250>"
      ]
     },
     "metadata": {},
     "output_type": "display_data"
    }
   ],
   "source": [
    "if __name__== \"__main__\":\n",
    "    app.run_server(mode= 'inline', host = \"0.0.0.0\", debug=True)"
   ]
  },
  {
   "cell_type": "code",
   "execution_count": null,
   "id": "6d0c5a7c-f352-446e-b027-fd51be1475aa",
   "metadata": {},
   "outputs": [],
   "source": []
  }
 ],
 "metadata": {
  "kernelspec": {
   "display_name": "Python 3 (ipykernel)",
   "language": "python",
   "name": "python3"
  },
  "language_info": {
   "codemirror_mode": {
    "name": "ipython",
    "version": 3
   },
   "file_extension": ".py",
   "mimetype": "text/x-python",
   "name": "python",
   "nbconvert_exporter": "python",
   "pygments_lexer": "ipython3",
   "version": "3.11.0"
  }
 },
 "nbformat": 4,
 "nbformat_minor": 5
}
